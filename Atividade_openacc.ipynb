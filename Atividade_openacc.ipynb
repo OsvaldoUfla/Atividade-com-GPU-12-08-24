{
  "nbformat": 4,
  "nbformat_minor": 0,
  "metadata": {
    "colab": {
      "provenance": [],
      "gpuType": "T4",
      "authorship_tag": "ABX9TyO+wOJqbykBAMMjqdFOHhj+",
      "include_colab_link": true
    },
    "kernelspec": {
      "name": "python3",
      "display_name": "Python 3"
    },
    "language_info": {
      "name": "python"
    },
    "accelerator": "GPU"
  },
  "cells": [
    {
      "cell_type": "markdown",
      "metadata": {
        "id": "view-in-github",
        "colab_type": "text"
      },
      "source": [
        "<a href=\"https://colab.research.google.com/github/OsvaldoUfla/Atividade-com-GPU-12-08-24/blob/main/Atividade_openacc.ipynb\" target=\"_parent\"><img src=\"https://colab.research.google.com/assets/colab-badge.svg\" alt=\"Open In Colab\"/></a>"
      ]
    },
    {
      "cell_type": "markdown",
      "source": [
        "\n",
        "# Atividade programação GPU com OpenACC\n",
        "Osvaldo Rorigues de Faria Junior - 201911203"
      ],
      "metadata": {
        "id": "K45FRu3O6oQU"
      }
    },
    {
      "cell_type": "markdown",
      "source": [
        "# Soma de vetores\n",
        "Onde ocorre paralelismo:   \n",
        "Dentro da região #pragma acc data, a função sumArraysOnHost é chamada duas vezes, uma vez para somar h_A com h_B, e outra para somar d_A com d_B. Ambas as operações são realizadas em paralelo, como definido na função sumArraysOnHost."
      ],
      "metadata": {
        "id": "USiJKSO2qMV7"
      }
    },
    {
      "cell_type": "code",
      "execution_count": 91,
      "metadata": {
        "colab": {
          "base_uri": "https://localhost:8080/"
        },
        "id": "btc59DCNoYnx",
        "outputId": "c002104c-3d96-445b-dfd0-5b4b7faf3662"
      },
      "outputs": [
        {
          "output_type": "stream",
          "name": "stdout",
          "text": [
            "Overwriting soma_vetor.c\n"
          ]
        }
      ],
      "source": [
        "%%writefile soma_vetor.c\n",
        "#include <stdlib.h>\n",
        "#include <time.h>\n",
        "#include <stdio.h>\n",
        "#include <openacc.h>\n",
        "\n",
        "void sumArraysOnHost(float *A, float *B, float *C, const int N)\n",
        "{\n",
        "    #pragma acc parallel loop\n",
        "    for (int idx = 0; idx < N; idx++)\n",
        "    {\n",
        "        C[idx] = A[idx] + B[idx];\n",
        "    }\n",
        "}\n",
        "\n",
        "void initialData(float *ip, int size)\n",
        "{\n",
        "    // gerar semente diferente para número aleatório\n",
        "    time_t t;\n",
        "    srand((unsigned) time(&t));\n",
        "\n",
        "    for (int i = 0; i < size; i++)\n",
        "    {\n",
        "        ip[i] = (float)(rand() & 0xFF) / 10.0f;\n",
        "    }\n",
        "\n",
        "    return;\n",
        "}\n",
        "\n",
        "void initialDatasequencial(float *ip,float *ip2, int size)\n",
        "{\n",
        "    for (int i = 0; i < size; i++)\n",
        "    {\n",
        "        ip[i] = i;\n",
        "        ip2[i] = size-i;\n",
        "    }\n",
        "\n",
        "    return;\n",
        "}\n",
        "\n",
        "int main(int argc, char **argv)\n",
        "{\n",
        "    int nElem = 1024;\n",
        "    size_t nBytes = nElem * sizeof(float);\n",
        "\n",
        "    float *h_A, *h_B, *h_C;\n",
        "    float *d_A, *d_B, *d_C;\n",
        "    h_A = (float *)malloc(nBytes);\n",
        "    h_B = (float *)malloc(nBytes);\n",
        "    h_C = (float *)malloc(nBytes);\n",
        "    d_A = (float *)malloc(nBytes);\n",
        "    d_B = (float *)malloc(nBytes);\n",
        "    d_C = (float *)malloc(nBytes);\n",
        "\n",
        "\n",
        "    initialData(h_A, nElem);\n",
        "    initialData(h_B, nElem);\n",
        "    initialDatasequencial(d_A,d_B, nElem);\n",
        "\n",
        "    // Copiar dados para o dispositivo\n",
        "    #pragma acc data copyin(h_A[0:nElem], h_B[0:nElem]) copyout(h_C[0:nElem])\n",
        "    {\n",
        "        sumArraysOnHost(h_A, h_B, h_C, nElem);\n",
        "        sumArraysOnHost(d_A, d_B, d_C, nElem);\n",
        "    }\n",
        "\n",
        "    // Verificar os resultados\n",
        "    for (int i = 0; i < 10; i++)\n",
        "    {\n",
        "        printf(\"C[%d] = %f\\n\", i, h_C[i]);\n",
        "    }\n",
        "\n",
        "    // Verificar se resultados estão corretos\n",
        "    for (int i = 0; i < 10; i++)\n",
        "    {\n",
        "        printf(\"C[%d] = %f\\n\", i, d_C[i]);\n",
        "    }\n",
        "\n",
        "    free(h_A);\n",
        "    free(h_B);\n",
        "    free(h_C);\n",
        "    free(d_A);\n",
        "    free(d_B);\n",
        "    free(d_C);\n",
        "\n",
        "    return(0);\n",
        "}\n"
      ]
    },
    {
      "cell_type": "code",
      "source": [
        "!gcc -fopenacc soma_vetor.c -o soma_vetor"
      ],
      "metadata": {
        "id": "YAwKdaWwq3SJ"
      },
      "execution_count": 92,
      "outputs": []
    },
    {
      "cell_type": "code",
      "source": [
        "!./soma_vetor"
      ],
      "metadata": {
        "colab": {
          "base_uri": "https://localhost:8080/"
        },
        "id": "71c_wH1rrAZF",
        "outputId": "c3d51e30-f854-41fc-9ee9-1ef41470127c"
      },
      "execution_count": 93,
      "outputs": [
        {
          "output_type": "stream",
          "name": "stdout",
          "text": [
            "C[0] = 15.600000\n",
            "C[1] = 12.200000\n",
            "C[2] = 28.400000\n",
            "C[3] = 17.000000\n",
            "C[4] = 1.800000\n",
            "C[5] = 14.400000\n",
            "C[6] = 25.600000\n",
            "C[7] = 16.799999\n",
            "C[8] = 14.400000\n",
            "C[9] = 34.799999\n",
            "C[0] = 1024.000000\n",
            "C[1] = 1024.000000\n",
            "C[2] = 1024.000000\n",
            "C[3] = 1024.000000\n",
            "C[4] = 1024.000000\n",
            "C[5] = 1024.000000\n",
            "C[6] = 1024.000000\n",
            "C[7] = 1024.000000\n",
            "C[8] = 1024.000000\n",
            "C[9] = 1024.000000\n"
          ]
        }
      ]
    },
    {
      "cell_type": "markdown",
      "source": [
        "# Soma de matrizes\n",
        "Onde ocorre paralelismo:   \n",
        "O paralelismo no código ocorre dentro da função matAdd, onde a soma das matrizes é distribuída entre múltiplos threads utilizando a diretiva #pragma acc parallel loop. Isso permite que cada elemento das matrizes seja somado em paralelo, aproveitando a capacidade de múltiplos núcleos de CPU ou de uma GPU para acelerar a operação."
      ],
      "metadata": {
        "id": "s29yiFtbqHY_"
      }
    },
    {
      "cell_type": "code",
      "source": [
        "%%writefile soma_matriz.c\n",
        "#include <stdio.h>\n",
        "#include <stdlib.h>\n",
        "#include <openacc.h>\n",
        "\n",
        "void matAdd(int width, int height, const float* A, const float* B, float* C)\n",
        "{\n",
        "    #pragma acc parallel loop collapse(2) copyin(A[0:width*height], B[0:width*height]) copyout(C[0:width*height])\n",
        "    for (int i = 0; i < height; i++)\n",
        "    {\n",
        "        for (int j = 0; j < width; j++)\n",
        "        {\n",
        "            int index = i * width + j;\n",
        "            C[index] = A[index] + B[index];\n",
        "        }\n",
        "    }\n",
        "}\n",
        "\n",
        "int main()\n",
        "{\n",
        "    int width = 1000;\n",
        "    int height = 100;\n",
        "\n",
        "    int numElements = width * height;\n",
        "\n",
        "    float* A = (float*)calloc(numElements, sizeof(float));\n",
        "    float* B = (float*)calloc(numElements, sizeof(float));\n",
        "    float* C = (float*)calloc(numElements, sizeof(float));\n",
        "\n",
        "    if (A == NULL || B == NULL || C == NULL)\n",
        "    {\n",
        "        fprintf(stderr, \"Memory allocation failed\\n\");\n",
        "        return 1;\n",
        "    }\n",
        "\n",
        "    srand(1214134);\n",
        "    for (int i = 0; i < numElements; i++)\n",
        "    {\n",
        "        A[i] = (float)rand() / (float)(RAND_MAX + 1.0);\n",
        "        B[i] = (float)rand() / (float)(RAND_MAX + 1.0);\n",
        "    }\n",
        "\n",
        "    matAdd(width, height, A, B, C);\n",
        "\n",
        "    for (int i = 0; i < (height < 5 ? height : 5); i++)\n",
        "    {\n",
        "        for (int j = 0; j < (width < 5 ? width : 5); j++)\n",
        "        {\n",
        "            int index = i * width + j;\n",
        "            printf(\"%3.2f + %3.2f = %3.2f;\\t\", A[index], B[index], C[index]);\n",
        "        }\n",
        "        printf(\"...\\n\");\n",
        "    }\n",
        "    printf(\"...\\n\");\n",
        "\n",
        "    free(A);\n",
        "    free(B);\n",
        "    free(C);\n",
        "\n",
        "    return 0;\n",
        "}\n"
      ],
      "metadata": {
        "colab": {
          "base_uri": "https://localhost:8080/"
        },
        "id": "uAR8FoLFqK4b",
        "outputId": "f9e67578-284d-4140-d5d8-86a03d91b14d"
      },
      "execution_count": 94,
      "outputs": [
        {
          "output_type": "stream",
          "name": "stdout",
          "text": [
            "Overwriting soma_matriz.c\n"
          ]
        }
      ]
    },
    {
      "cell_type": "code",
      "source": [
        "!gcc -fopenacc soma_matriz.c -o soma_matriz"
      ],
      "metadata": {
        "id": "QHFWDVnBwYqF"
      },
      "execution_count": 95,
      "outputs": []
    },
    {
      "cell_type": "code",
      "source": [
        "!./soma_matriz"
      ],
      "metadata": {
        "id": "1sXED2ztwi9m",
        "colab": {
          "base_uri": "https://localhost:8080/"
        },
        "outputId": "b0305669-d13c-4987-afc4-0bb9e6c1a44d"
      },
      "execution_count": 96,
      "outputs": [
        {
          "output_type": "stream",
          "name": "stdout",
          "text": [
            "0.47 + 0.76 = 1.23;\t0.11 + 0.65 = 0.77;\t0.13 + 0.70 = 0.83;\t0.22 + 0.13 = 0.35;\t0.96 + 0.03 = 0.99;\t...\n",
            "0.24 + 0.24 = 0.48;\t0.59 + 0.11 = 0.70;\t0.55 + 0.88 = 1.43;\t0.43 + 0.05 = 0.48;\t0.30 + 0.57 = 0.87;\t...\n",
            "0.21 + 0.77 = 0.98;\t0.21 + 0.86 = 1.07;\t0.92 + 0.10 = 1.02;\t0.64 + 0.03 = 0.67;\t0.45 + 0.01 = 0.46;\t...\n",
            "0.16 + 0.23 = 0.39;\t0.73 + 0.08 = 0.81;\t0.19 + 0.11 = 0.30;\t0.65 + 0.41 = 1.06;\t0.54 + 0.41 = 0.95;\t...\n",
            "0.43 + 0.11 = 0.54;\t0.66 + 0.23 = 0.89;\t0.64 + 0.05 = 0.68;\t0.51 + 0.51 = 1.02;\t0.31 + 0.05 = 0.36;\t...\n",
            "...\n"
          ]
        }
      ]
    },
    {
      "cell_type": "markdown",
      "source": [
        "# Crivo OpenACC   \n",
        "Onde ocorre paralelismo:    \n",
        "O paralelismo ocorre nos dois laços principais da função crivo_array:    \n",
        "    1 - Inicialização do vetor a: Cada índice do vetor é atribuído simultaneamente em diferentes threads.    \n",
        "    2 - Marcação dos múltiplos de k: A marcação dos múltiplos de um número k é feita em paralelo, permitindo que várias partes do vetor sejam processadas ao mesmo tempo.     \n",
        "Essa abordagem paralela pode levar a uma grande melhoria no desempenho em sistemas com múltiplos núcleos ou GPUs, especialmente quando N é grande, pois a execução paralela reduz o tempo necessário para percorrer e processar o vetor a."
      ],
      "metadata": {
        "id": "czzmG32rvBmC"
      }
    },
    {
      "cell_type": "code",
      "source": [
        "%%writefile crivo.c\n",
        "#include <openacc.h>\n",
        "#include <stdio.h>\n",
        "#include <stdlib.h>\n",
        "\n",
        "void crivo_array(int *a, int N) {\n",
        "\n",
        "    int k = 2;\n",
        "\n",
        "    #pragma acc parallel loop\n",
        "    for (int idx = 0; idx < N; idx++) {\n",
        "        a[idx] = idx;\n",
        "    }\n",
        "\n",
        "    while (k * 2 <= N) {\n",
        "        #pragma acc parallel loop\n",
        "        for (int idx = 0; idx < N; idx++) {\n",
        "            if (((a[idx] % k) == 0) && (a[idx] > 0) && (a[idx] != k)) {\n",
        "                a[idx] = -1; // marco o elemento na lista\n",
        "            }\n",
        "        }\n",
        "\n",
        "        k++;\n",
        "        while (a[k] < 0 && k < N) {\n",
        "            k++;\n",
        "        }\n",
        "    }\n",
        "}\n",
        "\n",
        "int main(void) {\n",
        "\n",
        "    int *a;\n",
        "    const int N = 1000; // Numero de elementos da lista\n",
        "\n",
        "    size_t size = N * sizeof(int); // determinando o tamanho do vetor de inteiros\n",
        "\n",
        "    a = (int*)malloc(size); // alocando espaço na memoria da CPU\n",
        "\n",
        "    // faz crivo\n",
        "    #pragma acc data copy(a[0:N])\n",
        "    {\n",
        "        crivo_array(a, N);\n",
        "    }\n",
        "    // fim do crivo\n",
        "\n",
        "    printf(\"São primos os números entre 2 e %d\\n\", N);\n",
        "    for (int i = 2; i < N; i++) {\n",
        "        if (a[i] > 0)\n",
        "            printf(\"%d  --  \", a[i]); // imprimo somente os números não marcados (primos)\n",
        "    }\n",
        "\n",
        "    free(a); // Liberando memoria da CPU\n",
        "    return 0;\n",
        "}\n",
        "\n"
      ],
      "metadata": {
        "colab": {
          "base_uri": "https://localhost:8080/"
        },
        "id": "ZNqkl7p8vD2v",
        "outputId": "290133ca-ae20-4aa9-8392-cb292c580a11"
      },
      "execution_count": 97,
      "outputs": [
        {
          "output_type": "stream",
          "name": "stdout",
          "text": [
            "Overwriting crivo.c\n"
          ]
        }
      ]
    },
    {
      "cell_type": "code",
      "source": [
        "!gcc -fopenacc crivo.c -o crivo"
      ],
      "metadata": {
        "id": "dKV-QKIMwd4k"
      },
      "execution_count": 98,
      "outputs": []
    },
    {
      "cell_type": "code",
      "source": [
        "!./crivo"
      ],
      "metadata": {
        "id": "OIZEdXfuwfyW",
        "colab": {
          "base_uri": "https://localhost:8080/"
        },
        "outputId": "ceacf385-27be-4b8a-967b-46702d493a6b"
      },
      "execution_count": 99,
      "outputs": [
        {
          "output_type": "stream",
          "name": "stdout",
          "text": [
            "São primos os números entre 2 e 1000\n",
            "2  --  3  --  5  --  7  --  11  --  13  --  17  --  19  --  23  --  29  --  31  --  37  --  41  --  43  --  47  --  53  --  59  --  61  --  67  --  71  --  73  --  79  --  83  --  89  --  97  --  101  --  103  --  107  --  109  --  113  --  127  --  131  --  137  --  139  --  149  --  151  --  157  --  163  --  167  --  173  --  179  --  181  --  191  --  193  --  197  --  199  --  211  --  223  --  227  --  229  --  233  --  239  --  241  --  251  --  257  --  263  --  269  --  271  --  277  --  281  --  283  --  293  --  307  --  311  --  313  --  317  --  331  --  337  --  347  --  349  --  353  --  359  --  367  --  373  --  379  --  383  --  389  --  397  --  401  --  409  --  419  --  421  --  431  --  433  --  439  --  443  --  449  --  457  --  461  --  463  --  467  --  479  --  487  --  491  --  499  --  503  --  509  --  521  --  523  --  541  --  547  --  557  --  563  --  569  --  571  --  577  --  587  --  593  --  599  --  601  --  607  --  613  --  617  --  619  --  631  --  641  --  643  --  647  --  653  --  659  --  661  --  673  --  677  --  683  --  691  --  701  --  709  --  719  --  727  --  733  --  739  --  743  --  751  --  757  --  761  --  769  --  773  --  787  --  797  --  809  --  811  --  821  --  823  --  827  --  829  --  839  --  853  --  857  --  859  --  863  --  877  --  881  --  883  --  887  --  907  --  911  --  919  --  929  --  937  --  941  --  947  --  953  --  967  --  971  --  977  --  983  --  991  --  997  --  "
          ]
        }
      ]
    }
  ]
}